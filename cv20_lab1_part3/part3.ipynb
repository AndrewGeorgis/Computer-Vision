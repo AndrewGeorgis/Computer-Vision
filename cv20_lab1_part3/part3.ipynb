{
 "cells": [
  {
   "cell_type": "code",
   "execution_count": 1,
   "metadata": {},
   "outputs": [],
   "source": [
    "import cv2\n",
    "import numpy as np\n",
    "from matplotlib import pyplot as plt\n",
    "%matplotlib inline\n",
    "import math"
   ]
  },
  {
   "cell_type": "code",
   "execution_count": 2,
   "metadata": {},
   "outputs": [],
   "source": [
    "import cv20_lab1_part3_utils as p3\n",
    "import CV20_lab1_Part2\n",
    "from CV20_lab1_Part2 import EdgeDetectors as edgeDet\n",
    "from CV20_lab1_Part2 import BlobDetectors as blobDet\n",
    "\n"
   ]
  },
  {
   "cell_type": "markdown",
   "metadata": {},
   "source": [
    "### 3.1 Ταίριασμα Εικόνων υπό Περιστροφή και Αλλαγή Κλίμακας\n",
    "#### Corner Matching"
   ]
  },
  {
   "cell_type": "code",
   "execution_count": 3,
   "metadata": {
    "scrolled": false
   },
   "outputs": [
    {
     "name": "stdout",
     "output_type": "stream",
     "text": [
      "Corner Detector\n",
      "SURF\n",
      "Avg. Scale Error for Image 1: 0.066\n",
      "Avg. Theta Error for Image 1: 1.625\n",
      "%---------------------------------%\n",
      "Corner Detector\n",
      "HOG\n",
      "Avg. Scale Error for Image 1: 0.507\n",
      "Avg. Theta Error for Image 1: 24.627\n",
      "%---------------------------------%\n",
      "Multi-Corner Detector\n",
      "SURF\n",
      "Avg. Scale Error for Image 1: 0.201\n",
      "Avg. Theta Error for Image 1: 10.730\n",
      "%---------------------------------%\n",
      "Multi-Corner Detector\n",
      "HOG\n",
      "Avg. Scale Error for Image 1: 0.233\n",
      "Avg. Theta Error for Image 1: 25.009\n",
      "%---------------------------------%\n"
     ]
    }
   ],
   "source": [
    "# Here is a lambda which acts as a wrapper for detector function, e.g. harrisDetector.\n",
    "# The detector arguments are, in order: image, sigma, rho, k, threshold.\n",
    "detect_fun = np.array([[],''])\n",
    "desc_fun = np.array([[],''])\n",
    "detect_fun[0] = [lambda I: edgeDet.Harris_Stephens(I, sigma=2.5, rho=2.5, k=0.05, theta=0.005, save_png=False),'Corner Detector']\n",
    "detect_fun[1] = [lambda I: edgeDet.Harris_Laplace(I, sigma=2, rho=2.5, k=0.005, theta=0.006, s=1.5, N=5, save_png=True),'Multi-Corner Detector']\n",
    " # You can use either of the following lines to extract features (HOG/SURF).\n",
    "desc_fun[0] = [lambda I, kp: p3.featuresSURF(I,kp),'SURF']\n",
    "desc_fun[1] = [lambda I, kp: p3.featuresHOG(I,kp),'HOG']\n",
    "\n",
    "for i in range(2):\n",
    "    for j in range(2):\n",
    "        avg_scale_errors,avg_theta_errors = p3.matching_evaluation(detect_fun[i][0], desc_fun[j][0])\n",
    "        print(detect_fun[i][1])\n",
    "        print(desc_fun[j][1])\n",
    "        print('Avg. Scale Error for Image 1: {:.3f}'.format(avg_scale_errors[0]))\n",
    "        print('Avg. Theta Error for Image 1: {:.3f}'.format(avg_theta_errors[0]))\n",
    "        print('%---------------------------------%')\n",
    "\n",
    "\n",
    "\n"
   ]
  },
  {
   "cell_type": "code",
   "execution_count": 16,
   "metadata": {},
   "outputs": [
    {
     "name": "stdout",
     "output_type": "stream",
     "text": [
      "Blob Detector\n",
      "SURF\n",
      "Avg. Scale Error for Image 1: 0.036\n",
      "Avg. Theta Error for Image 1: 2.655\n",
      "%---------------------------------%\n",
      "Blob Detector\n",
      "HOG\n",
      "Avg. Scale Error for Image 1: 0.106\n",
      "Avg. Theta Error for Image 1: 7.254\n",
      "%---------------------------------%\n",
      "Multi Blob Detector\n",
      "SURF\n",
      "Avg. Scale Error for Image 1: 0.002\n",
      "Avg. Theta Error for Image 1: 0.077\n",
      "%---------------------------------%\n",
      "Multi Blob Detector\n",
      "HOG\n",
      "Avg. Scale Error for Image 1: 0.134\n",
      "Avg. Theta Error for Image 1: 12.093\n",
      "%---------------------------------%\n",
      "Multi Box Blob Detector\n",
      "SURF\n",
      "Avg. Scale Error for Image 1: 0.004\n",
      "Avg. Theta Error for Image 1: 0.178\n",
      "%---------------------------------%\n",
      "Multi Box Blob Detector\n",
      "HOG\n",
      "Avg. Scale Error for Image 1: 0.099\n",
      "Avg. Theta Error for Image 1: 12.109\n",
      "%---------------------------------%\n"
     ]
    }
   ],
   "source": [
    "detector_funcsMB = np.array([[],[],''])\n",
    "detector_funcsMB[0] = [lambda I: blobDet.SingleScale_Blobs(I, sigma=2, theta=0.006, approx=False, save_png=True),'Blob Detector']\n",
    "detector_funcsMB[1] = [lambda I: blobDet.MultiScale_Blobs(I, sigma=2, theta=0.05, s=1.5, N=4, approx=False, save_png=True),'Multi Blob Detector']\n",
    "detector_funcsMB[2] = [lambda I: blobDet.MultiScale_Blobs(I, sigma=2, theta=0.1, s=2, N=4, approx=True, save_png=True),'Multi Box Blob Detector']\n",
    "\n",
    "for i in range(3):\n",
    "    for j in range(2):\n",
    "        avg_scale_errors,avg_theta_errors = p3.matching_evaluation(detector_funcsMB[i][0], desc_fun[j][0])\n",
    "        print(detector_funcsMB[i][1])\n",
    "        print(desc_fun[j][1])\n",
    "        print('Avg. Scale Error for Image 1: {:.3f}'.format(avg_scale_errors[0]))\n",
    "        print('Avg. Theta Error for Image 1: {:.3f}'.format(avg_theta_errors[0]))\n",
    "        print('%---------------------------------%')\n",
    "\n",
    "\n"
   ]
  },
  {
   "cell_type": "markdown",
   "metadata": {},
   "source": [
    "### 3.2 Κατηγοροποίηση Εικόνων\n"
   ]
  },
  {
   "cell_type": "code",
   "execution_count": 17,
   "metadata": {},
   "outputs": [],
   "source": [
    "import OurBoVW as OurBagofWords"
   ]
  },
  {
   "cell_type": "markdown",
   "metadata": {},
   "source": [
    "Ακολουθούν τα ερωτήματα 3.2.1 - 3.2.4 υλοποιώντας για το ερώτημα 3.2.3 τη δική μας BoVW συνάρτηση"
   ]
  },
  {
   "cell_type": "markdown",
   "metadata": {},
   "source": [
    "### 3.2.1 - 3.2.4 Create Our Bag of Visual Words\n",
    "Δημιουργούμε τη δική μας BoVW χρησιμοποιώντας για τον αλγόριθμο kmeans 600 κέντρα.\n"
   ]
  },
  {
   "cell_type": "code",
   "execution_count": 4,
   "metadata": {},
   "outputs": [],
   "source": [
    "from sklearn.cluster import KMeans\n",
    "from scipy.spatial import distance\n",
    "from sklearn import preprocessing\n",
    "\n",
    "def OurBagVW(data_train, data_test):\n",
    "    k = 600\n",
    "    kmeans = KMeans(k) # n_clusters = k \n",
    "    # concatenate all features into a global array of features\n",
    "    all_features = np.concatenate(data_train)\n",
    "    # create a subset about 50% of all features\n",
    "    # first we take randomly indeces from the set\n",
    "    indeces = np.random.randint(len(all_features), size=len(all_features)//2) \n",
    "    less_features = all_features[indeces]\n",
    "    # fit the kmean => calculate the centroids\n",
    "    kmeans.fit(less_features)\n",
    "    centroids = kmeans.cluster_centers_\n",
    "    edges = np.arange(1,k+2)\n",
    "    BOF_tr = np.empty((len(data_train),k))\n",
    "    indexs= np.array([[]])\n",
    "    for i in range(len(data_train)):\n",
    "        # calculate the distance from the means using euclidean distance\n",
    "        # and take the index of the centroid that correspond to the minimum distance \n",
    "        dist = distance.cdist(data_train[i], centroids, 'euclidean') \n",
    "        indexs = np.argmin(dist,axis = 1)\n",
    "        hist,_= np.histogram(indexs,edges)\n",
    "        BOF_tr[i] = preprocessing.normalize(hist.reshape((len(hist),1)), norm='l2').squeeze()\n",
    "       \n",
    "       \n",
    "    BOF_ts = np.empty((len(data_test),k))\n",
    "    for i in range(len(data_test)):\n",
    "        dist = distance.cdist(data_test[i], centroids, 'euclidean')\n",
    "        indexs = np.argmin(dist,axis = 1)\n",
    "        hist,_= np.histogram(indexs,edges)\n",
    "        BOF_ts[i] = preprocessing.normalize(hist.reshape((len(hist),1)), norm='l2').squeeze()\n",
    "     \n",
    "    return BOF_tr, BOF_ts"
   ]
  },
  {
   "cell_type": "markdown",
   "metadata": {},
   "source": [
    "##### Testing Our Bag of Visual Words "
   ]
  },
  {
   "cell_type": "code",
   "execution_count": 5,
   "metadata": {},
   "outputs": [],
   "source": [
    "def Our_predict_score(detector_fun,descriptor_fun):\n",
    "    feats = p3.FeatureExtraction(detector_fun, descriptor_fun)\n",
    "    accs = []\n",
    "    for k in range(5):\n",
    "        # Split into a training set and a test set.\n",
    "        data_train, label_train, data_test, label_test = p3.createTrainTest(feats, k)\n",
    "        # Perform Kmeans to find centroids for clusters.\n",
    "        BOF_tr, BOF_ts = OurBagVW(data_train, data_test)\n",
    "        # Train an svm on the training set and make predictions on the test set\n",
    "        acc, preds, probas = p3.svm(BOF_tr, label_train, BOF_ts, label_test)\n",
    "        accs.append(acc)\n",
    "\n",
    "    mean_accuracy = 100.0*np.mean(accs)\n",
    "    return mean_accuracy\n"
   ]
  },
  {
   "cell_type": "markdown",
   "metadata": {},
   "source": [
    "#### For SURF descriptor and Corner Detector"
   ]
  },
  {
   "cell_type": "code",
   "execution_count": 26,
   "metadata": {},
   "outputs": [
    {
     "name": "stdout",
     "output_type": "stream",
     "text": [
      "Time for feature extraction: 48.430\n",
      "Mean accurancy for Corner Detector with SURF descriptor: 53.241%\n",
      "Total time: 196.43861900000047\n"
     ]
    }
   ],
   "source": [
    "from timeit import default_timer as timer\n",
    "start = timer()\n",
    "accuracyHSS = 0\n",
    "accuracyHSS = Our_predict_score(detector_fun=detect_fun[0][0], descriptor_fun=desc_fun[0][0])\n",
    "end = timer()                                                           \n",
    "print('Mean accurancy for {} with {} descriptor: {:.3f}%'.format(detect_fun[0][1],desc_fun[0][1],accuracyHSS))\n",
    "   \n",
    "print('Total time: {}'.format((end-start)))"
   ]
  },
  {
   "cell_type": "markdown",
   "metadata": {},
   "source": [
    "#### Χρησιμοποιώντας τον HOG περιγραφητή και για ανιχνευτή τον Harris-Stephens λαμβάνουμε:"
   ]
  },
  {
   "cell_type": "code",
   "execution_count": 27,
   "metadata": {},
   "outputs": [
    {
     "name": "stdout",
     "output_type": "stream",
     "text": [
      "Time for feature extraction: 67.310\n",
      "Mean accurancy for Corner Detector with HOG descriptor: 58.897%\n",
      "Total time: 193.40779480000037\n"
     ]
    }
   ],
   "source": [
    "start = timer()\n",
    "accuracyHSH = 0\n",
    "accuracyHSH = Our_predict_score(detector_fun=detect_fun[0][0], descriptor_fun=desc_fun[1][0])\n",
    "end = timer()                                                           \n",
    "print('Mean accurancy for {} with {} descriptor: {:.3f}%'.format(detect_fun[0][1],desc_fun[1][1],accuracyHSH))\n",
    "   \n",
    "print('Total time: {}'.format((end-start)))"
   ]
  },
  {
   "cell_type": "markdown",
   "metadata": {},
   "source": [
    "#### Χρησιμοποιώντας τον SURF περιγραφητή και για ανιχνευτή τον Harris-Laplace λαμβάνουμε:"
   ]
  },
  {
   "cell_type": "code",
   "execution_count": 28,
   "metadata": {},
   "outputs": [
    {
     "name": "stdout",
     "output_type": "stream",
     "text": [
      "Time for feature extraction: 738.174\n",
      "Mean accurancy for Multi-Corner Detector with SURF descriptor: 52.552%\n",
      "Total time: 927.4452167\n"
     ]
    }
   ],
   "source": [
    "start = timer()\n",
    "accuracyHLS = 0\n",
    "accuracyHLS = Our_predict_score(detector_fun=detect_fun[1][0], descriptor_fun=desc_fun[0][0])\n",
    "end = timer()                                                           \n",
    "print('Mean accurancy for {} with {} descriptor: {:.3f}%'.format(detect_fun[1][1],desc_fun[0][1],accuracyHLS))\n",
    "   \n",
    "print('Total time: {}'.format((end-start)))"
   ]
  },
  {
   "cell_type": "markdown",
   "metadata": {},
   "source": [
    "#### Χρησιμοποιώντας το HOG περιγραφητή και ανιχνευτή το Harris-Laplace τα αποτελέσματα που λαμβάνουμε είναι:"
   ]
  },
  {
   "cell_type": "code",
   "execution_count": 29,
   "metadata": {
    "scrolled": false
   },
   "outputs": [
    {
     "name": "stdout",
     "output_type": "stream",
     "text": [
      "Time for feature extraction: 912.083\n",
      "Mean accurancy for Multi-Corner Detector with HOG descriptor: 54.345%\n",
      "Total time: 1055.2161811999995\n"
     ]
    }
   ],
   "source": [
    "start = timer()\n",
    "accuracyHLH = 0\n",
    "accuracyHLH = Our_predict_score(detector_fun=detect_fun[1][0], descriptor_fun=desc_fun[1][0])\n",
    "end = timer()                                                           \n",
    "print('Mean accurancy for {} with {} descriptor: {:.3f}%'.format(detect_fun[1][1],desc_fun[1][1],accuracyHLH))\n",
    "   \n",
    "print('Total time: {}'.format((end-start)))"
   ]
  },
  {
   "cell_type": "markdown",
   "metadata": {},
   "source": [
    "#### Κατηγοροποίηση εικόνων χρησιμποιώντας ως Blobs ανιχνευτές\n",
    "Χρησιμοποιώντας το SURF περιγραφητή και ανιχνευτή τα Blobs λαμβάνουμε:"
   ]
  },
  {
   "cell_type": "code",
   "execution_count": 30,
   "metadata": {},
   "outputs": [
    {
     "name": "stdout",
     "output_type": "stream",
     "text": [
      "Time for feature extraction: 31.418\n",
      "Mean accurancy for Blob Detector with SURF descriptor: 52.000%\n",
      "Total time: 521.9644865999999\n"
     ]
    }
   ],
   "source": [
    "start = timer()\n",
    "accuracyBS = 0\n",
    "accuracyBS = Our_predict_score(detector_fun=detector_funcsMB[0][0], descriptor_fun=desc_fun[0][0])\n",
    "end = timer()                                                           \n",
    "print('Mean accurancy for {} with {} descriptor: {:.3f}%'.format(detector_funcsMB[0][1],desc_fun[0][1],accuracyBS))\n",
    "   \n",
    "print('Total time: {}'.format((end-start)))"
   ]
  },
  {
   "cell_type": "markdown",
   "metadata": {},
   "source": [
    "#### Χρησιμοποιώντας το HOG περιγραφητή και ανιχνευτή τα Blobs λαμβάνουμε:\n"
   ]
  },
  {
   "cell_type": "code",
   "execution_count": 31,
   "metadata": {},
   "outputs": [
    {
     "name": "stdout",
     "output_type": "stream",
     "text": [
      "Time for feature extraction: 78.816\n",
      "Mean accurancy for Blob Detector with HOG descriptor: 60.552%\n",
      "Total time: 525.8917774000001\n"
     ]
    }
   ],
   "source": [
    "start = timer()\n",
    "accuracyBH = 0\n",
    "accuracyBH = Our_predict_score(detector_fun=detector_funcsMB[0][0], descriptor_fun=desc_fun[1][0])\n",
    "end = timer()                                                           \n",
    "print('Mean accurancy for {} with {} descriptor: {:.3f}%'.format(detector_funcsMB[0][1],desc_fun[1][1],accuracyBH))\n",
    "   \n",
    "print('Total time: {}'.format((end-start)))"
   ]
  },
  {
   "cell_type": "markdown",
   "metadata": {},
   "source": [
    "#### Χρησιμοποιώντας το SURF περιγραφητή και τον πολυκλιμακωτό ανιχνευτή Blobs λαμβάνουμε:"
   ]
  },
  {
   "cell_type": "code",
   "execution_count": 32,
   "metadata": {},
   "outputs": [
    {
     "name": "stdout",
     "output_type": "stream",
     "text": [
      "Time for feature extraction: 346.240\n",
      "Mean accurancy for Multi Blob Detector with SURF descriptor: 56.138%\n",
      "Total time: 765.6960308999987\n"
     ]
    }
   ],
   "source": [
    "start = timer()\n",
    "accuracyMBS = 0\n",
    "accuracyMBS = Our_predict_score(detector_fun=detector_funcsMB[1][0], descriptor_fun=desc_fun[0][0])\n",
    "end = timer()                                                           \n",
    "print('Mean accurancy for {} with {} descriptor: {:.3f}%'.format(detector_funcsMB[1][1],desc_fun[0][1],accuracyMBS))\n",
    "   \n",
    "print('Total time: {}'.format((end-start)))"
   ]
  },
  {
   "cell_type": "markdown",
   "metadata": {},
   "source": [
    "#### Χρησιμοποιώντας το HOG περιγραφητή και τον πολυκλιμακωτό ανιχνευτή Blobs λαμβάνουμε:"
   ]
  },
  {
   "cell_type": "code",
   "execution_count": 33,
   "metadata": {},
   "outputs": [
    {
     "name": "stdout",
     "output_type": "stream",
     "text": [
      "Time for feature extraction: 395.643\n",
      "Mean accurancy for Multi Blob Detector with HOG descriptor: 63.034%\n",
      "Total time: 768.1965318000002\n"
     ]
    }
   ],
   "source": [
    "start = timer()\n",
    "accuracyMBH = 0\n",
    "accuracyMBH = Our_predict_score(detector_fun=detector_funcsMB[1][0], descriptor_fun=desc_fun[1][0])\n",
    "end = timer()                                                           \n",
    "print('Mean accurancy for {} with {} descriptor: {:.3f}%'.format(detector_funcsMB[1][1],desc_fun[1][1],accuracyMBH))\n",
    "   \n",
    "print('Total time: {}'.format((end-start)))"
   ]
  },
  {
   "cell_type": "markdown",
   "metadata": {},
   "source": [
    "#### Χρησιμοποιώντας το SURF περιγραφητή και τον πολυκλιμακωτό ανιχνευτή Blobs με Box φίλτρα λαμβάνουμε:"
   ]
  },
  {
   "cell_type": "code",
   "execution_count": 7,
   "metadata": {},
   "outputs": [
    {
     "name": "stdout",
     "output_type": "stream",
     "text": [
      "Time for feature extraction: 834.163\n",
      "Mean accurancy for Multi Blob Detector with HOG descriptor: 64.135%\n",
      "Total time: 987.933562477865\n"
     ]
    }
   ],
   "source": [
    "start = timer()\n",
    "accuracyΒBS = 0\n",
    "accuracyΒBS = Our_predict_score(detector_fun=detector_funcsMB[2][0], descriptor_fun=desc_fun[0][0])\n",
    "end = timer()                                                           \n",
    "print('Mean accurancy for {} with {} descriptor: {:.3f}%'.format(detector_funcsMB[2][1],desc_fun[0][1],accuracyΒBS))  \n",
    "print('Total time: {}'.format((end-start)))\n"
   ]
  },
  {
   "cell_type": "markdown",
   "metadata": {},
   "source": [
    "#### Χρησιμοποιώντας το HOG περιγραφητή και τον πολυκλιμακωτό ανιχνευτή Blobs με Box φίλτρα λαμβάνουμε:"
   ]
  },
  {
   "cell_type": "code",
   "execution_count": 8,
   "metadata": {},
   "outputs": [
    {
     "name": "stdout",
     "output_type": "stream",
     "text": [
      "Time for feature extraction: 952.416\n",
      "Mean accurancy for Multi Blob Detector with HOG descriptor: 65.672%\n",
      "Total time: 1136.004635299815\n"
     ]
    }
   ],
   "source": [
    "start = timer()\n",
    "accuracyΒBH = 0\n",
    "accuracyΒBH = Our_predict_score(detector_fun=detector_funcsMB[2][0], descriptor_fun=desc_fun[1][0])\n",
    "end = timer()                                                           \n",
    "print('Mean accurancy for {} with {} descriptor: {:.3f}%'.format(detector_funcsMB[2][1],desc_fun[1][1],accuracyΒBH)) \n",
    "print('Total time: {}'.format((end-start)))"
   ]
  },
  {
   "cell_type": "markdown",
   "metadata": {},
   "source": [
    "#### Παρουσίαση των αποτελεσμάτων σε ένα κοινό πίνακα χρησιμοποιώντας τη βιβλιοθήκη pandas"
   ]
  },
  {
   "cell_type": "code",
   "execution_count": 4,
   "metadata": {
    "scrolled": false
   },
   "outputs": [
    {
     "name": "stdout",
     "output_type": "stream",
     "text": [
      "Collecting pandas\n",
      "  Downloading pandas-1.0.3-cp37-cp37m-win_amd64.whl (8.7 MB)\n",
      "Requirement already satisfied: python-dateutil>=2.6.1 in c:\\users\\andrew\\anaconda3\\envs\\cv_lab\\lib\\site-packages (from pandas) (2.8.1)\n",
      "Requirement already satisfied: numpy>=1.13.3 in c:\\users\\andrew\\anaconda3\\envs\\cv_lab\\lib\\site-packages (from pandas) (1.18.1)\n",
      "Collecting pytz>=2017.2\n",
      "  Downloading pytz-2020.1-py2.py3-none-any.whl (510 kB)\n",
      "Requirement already satisfied: six>=1.5 in c:\\users\\andrew\\anaconda3\\envs\\cv_lab\\lib\\site-packages (from python-dateutil>=2.6.1->pandas) (1.14.0)\n",
      "Installing collected packages: pytz, pandas\n",
      "Successfully installed pandas-1.0.3 pytz-2020.1\n"
     ]
    }
   ],
   "source": [
    "!pip install pandas\n",
    "import pandas as pd\n"
   ]
  },
  {
   "cell_type": "code",
   "execution_count": 10,
   "metadata": {},
   "outputs": [
    {
     "name": "stdout",
     "output_type": "stream",
     "text": [
      "         Detectors  SURF Accuracy %  HOG Accuracy %\n",
      "0  Harris-Stephens           53.241          58.897\n",
      "1   Harris-Laplace           52.552          54.345\n",
      "2            Blobs           52.000          60.552\n",
      "3      Multi-Blobs           56.138          63.034\n",
      "4  Multi-Box Blobs           64.135          65.672\n"
     ]
    }
   ],
   "source": [
    "data = [['Harris-Stephens',accuracyHSS,accuracyHSH],\n",
    "        ['Harris-Laplace',accuracyHLS,accuracyHLH],\n",
    "        ['Blobs',accuracyBS,accuracyBH],\n",
    "        ['Multi-Blobs',accuracyMBS,accuracyMBH],\n",
    "        ['Multi-Box Blobs',accuracyBBS,accuracyBBH]]\n",
    "df = pd.DataFrame(data,columns=['Detectors','SURF Accuracy %','HOG Accuracy %'])\n",
    "print(df)"
   ]
  }
 ],
 "metadata": {
  "kernelspec": {
   "display_name": "Python [conda env:cv_lab] *",
   "language": "python",
   "name": "conda-env-cv_lab-py"
  },
  "language_info": {
   "codemirror_mode": {
    "name": "ipython",
    "version": 3
   },
   "file_extension": ".py",
   "mimetype": "text/x-python",
   "name": "python",
   "nbconvert_exporter": "python",
   "pygments_lexer": "ipython3",
   "version": "3.7.7"
  }
 },
 "nbformat": 4,
 "nbformat_minor": 4
}
